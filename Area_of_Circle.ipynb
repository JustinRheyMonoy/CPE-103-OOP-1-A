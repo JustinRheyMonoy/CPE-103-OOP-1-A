{
  "nbformat": 4,
  "nbformat_minor": 0,
  "metadata": {
    "colab": {
      "provenance": [],
      "authorship_tag": "ABX9TyPyhYDGaFE0QBIqSwB8VOPz",
      "include_colab_link": true
    },
    "kernelspec": {
      "name": "python3",
      "display_name": "Python 3"
    },
    "language_info": {
      "name": "python"
    }
  },
  "cells": [
    {
      "cell_type": "markdown",
      "metadata": {
        "id": "view-in-github",
        "colab_type": "text"
      },
      "source": [
        "<a href=\"https://colab.research.google.com/github/JustinRheyMonoy/CPE-103-OOP-1-A/blob/main/Area_of_Circle.ipynb\" target=\"_parent\"><img src=\"https://colab.research.google.com/assets/colab-badge.svg\" alt=\"Open In Colab\"/></a>"
      ]
    },
    {
      "cell_type": "markdown",
      "source": [
        "#Area of a Circle"
      ],
      "metadata": {
        "id": "xyj4hfRuXJyB"
      }
    },
    {
      "cell_type": "code",
      "execution_count": 6,
      "metadata": {
        "colab": {
          "base_uri": "https://localhost:8080/"
        },
        "id": "LFw4n2tRW-De",
        "outputId": "e09d7694-bbc8-4e02-8161-e2df38498c5a"
      },
      "outputs": [
        {
          "output_type": "stream",
          "name": "stdout",
          "text": [
            "Enter the radius of the circle: 4\n",
            "50.24\n"
          ]
        }
      ],
      "source": [
        "r = float(input(\"Enter the radius of the circle: \"))\n",
        "area = 3.14 * r * r\n",
        "print(area)\n"
      ]
    },
    {
      "cell_type": "code",
      "source": [
        "diameter = 12\n",
        "r = diameter / 2\n",
        "area = 3.14 * r * r\n",
        "print(area)"
      ],
      "metadata": {
        "colab": {
          "base_uri": "https://localhost:8080/"
        },
        "id": "uAlBhLbMXpcK",
        "outputId": "2e335aed-2cd3-4a9d-d1cc-c36f543124a1"
      },
      "execution_count": 4,
      "outputs": [
        {
          "output_type": "stream",
          "name": "stdout",
          "text": [
            "113.03999999999999\n"
          ]
        }
      ]
    },
    {
      "cell_type": "code",
      "source": [],
      "metadata": {
        "id": "poX0kUoAZbhp"
      },
      "execution_count": null,
      "outputs": []
    }
  ]
}