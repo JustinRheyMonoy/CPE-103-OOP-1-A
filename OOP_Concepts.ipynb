{
  "nbformat": 4,
  "nbformat_minor": 0,
  "metadata": {
    "colab": {
      "provenance": [],
      "authorship_tag": "ABX9TyMXpsY6aoVPuKRsdGAJnfsp",
      "include_colab_link": true
    },
    "kernelspec": {
      "name": "python3",
      "display_name": "Python 3"
    },
    "language_info": {
      "name": "python"
    }
  },
  "cells": [
    {
      "cell_type": "markdown",
      "metadata": {
        "id": "view-in-github",
        "colab_type": "text"
      },
      "source": [
        "<a href=\"https://colab.research.google.com/github/JustinRheyMonoy/CPE-103-OOP-1-A/blob/main/OOP_Concepts.ipynb\" target=\"_parent\"><img src=\"https://colab.research.google.com/assets/colab-badge.svg\" alt=\"Open In Colab\"/></a>"
      ]
    },
    {
      "cell_type": "markdown",
      "source": [],
      "metadata": {
        "id": "hfMhOhwYvwy3"
      }
    },
    {
      "cell_type": "code",
      "source": [
        "class Car:\n",
        "  pass\n",
        "  def __init__(self,make,model,year):\n",
        "    self.make = make\n",
        "    self.model = model\n",
        "    self.year = year\n",
        "  def show(self):\n",
        "    print(self.name,self.color,self.age)\n",
        "class Car:\n",
        "  car_type = \"Sedan\"\n",
        "  def __init__(self, name, mileage):\n",
        "    self.name = name\n",
        "    self.mileage = mileage\n",
        "  def description(self):\n",
        "    return \"The \" + self.name + \" car gives the mileage of \" + str(self.mileage)\n",
        "  def max_speed(self,speed):\n",
        "    return \"The \" + self.name + \" runs at the maximum speed of \" + str(speed) + \"km/hr\"\n",
        "\n",
        "obj2 = Car(\"Honda City\",24.1)\n",
        "print(obj2.description())\n",
        "print(obj2.max_speed(150))\n",
        "\n",
        "class Car:   #parent class\n",
        "\n",
        "  def __init__(self, name, mileage):\n",
        "    self.name = name\n",
        "    self.mileage = mileage\n",
        "\n",
        "  def description(self):\n",
        "    return f\"The {self.name} car gives the mileage of {self.mileage}km/i\"\n",
        "\n",
        "class BMW(Car): #child class\n",
        "  pass\n",
        "\n",
        "class Audi(Car): #child class\n",
        "  def audi_desc(self):\n",
        "    return \"This is the description method of class Audi\"\n",
        "\n",
        "bmw = BMW(\"BMW\", 39.53)\n",
        "print(bmw.description())\n",
        "\n",
        "audi = Audi(\"Audi\", 14)\n",
        "print(audi.description())\n",
        "print(audi.audi_desc())\n",
        "\n",
        ""
      ],
      "metadata": {
        "colab": {
          "base_uri": "https://localhost:8080/"
        },
        "id": "26KviorH7y1s",
        "outputId": "c5719e2e-767e-4284-ee18-b3f9a8dfc5ed"
      },
      "execution_count": 1,
      "outputs": [
        {
          "output_type": "stream",
          "name": "stdout",
          "text": [
            "The Honda City car gives the mileage of 24.1\n",
            "The Honda City runs at the maximum speed of 150km/hr\n",
            "The BMW car gives the mileage of 39.53km/i\n",
            "The Audi car gives the mileage of 14km/i\n",
            "This is the description method of class Audi\n"
          ]
        }
      ]
    },
    {
      "cell_type": "markdown",
      "source": [
        "**METHODS**"
      ],
      "metadata": {
        "id": "xmMAK0DM9mJj"
      }
    },
    {
      "cell_type": "code",
      "source": [],
      "metadata": {
        "id": "f846_Vb99n1C"
      },
      "execution_count": null,
      "outputs": []
    },
    {
      "cell_type": "code",
      "source": [
        "class Car:\n",
        "  car_type = \"Sedan\"\n",
        "  def __init__(self, name, mileage):\n",
        "    self.name = name\n",
        "    self.mileage = mileage\n",
        "  def description(self):\n",
        "    return \"The \" + self.name + \" car gives the mileage of \" + str(self.mileage)\n",
        "  def max_speed(self,speed):\n",
        "    return \"The \" + self.name + \" runs at the maximum speed of \" + str(speed) + \"km/hr\"\n",
        "obj2 = Car(\"Honda City\",24.1)\n",
        "print(obj2.description())\n",
        "print(obj2.max_speed(150))"
      ],
      "metadata": {
        "colab": {
          "base_uri": "https://localhost:8080/"
        },
        "id": "GK7qX5YT9oKT",
        "outputId": "b49cf539-2457-452d-e48f-636b3a05241a"
      },
      "execution_count": 19,
      "outputs": [
        {
          "output_type": "stream",
          "name": "stdout",
          "text": [
            "The Honda City car gives the mileage of 24.1\n",
            "The Honda City runs at the maximum speed of 150km/hr\n"
          ]
        }
      ]
    },
    {
      "cell_type": "markdown",
      "source": [],
      "metadata": {
        "id": "EgnU1KGUEbHi"
      }
    },
    {
      "cell_type": "code",
      "source": [
        "class Shape:\n",
        "\n",
        "  def __init__(self, name, sides):\n",
        "    self.name = name\n",
        "    self.sides = sides\n",
        "\n",
        "  def description(self):\n",
        "    return f\"The {self.name} has {self.sides} sides\"\n",
        "\n",
        "class Triangle(Shape):\n",
        "  pass\n",
        "\n",
        "class Square(Shape):\n",
        "  pass\n",
        "\n",
        "class Rectangle(Shape):\n",
        "  pass\n",
        "\n",
        "# The instantiation should be outside the class definitions\n",
        "triangle = Triangle(\"Triangle\", 3)\n",
        "print(triangle.description())\n",
        "\n",
        "square = Square(\"Square\", 4)\n",
        "print(square.description())\n",
        "\n",
        "rectangle = Rectangle(\"Rectangle\", 4)\n",
        "print(rectangle.description())\n"
      ],
      "metadata": {
        "colab": {
          "base_uri": "https://localhost:8080/"
        },
        "id": "OAXghoZbLLah",
        "outputId": "f3c3c27b-d5fc-40c6-aac3-83f4cc15f7a8"
      },
      "execution_count": 97,
      "outputs": [
        {
          "output_type": "stream",
          "name": "stdout",
          "text": [
            "The Triangle has 3 sides\n",
            "The Square has 4 sides\n",
            "The Rectangle has 4 sides\n"
          ]
        }
      ]
    }
  ]
}