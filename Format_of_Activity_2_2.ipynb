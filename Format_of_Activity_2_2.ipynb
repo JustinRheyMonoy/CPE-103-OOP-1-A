{
  "cells": [
    {
      "cell_type": "markdown",
      "metadata": {
        "id": "view-in-github",
        "colab_type": "text"
      },
      "source": [
        "<a href=\"https://colab.research.google.com/github/JustinRheyMonoy/CPE-103-OOP-1-A/blob/main/Format_of_Activity_2_2.ipynb\" target=\"_parent\"><img src=\"https://colab.research.google.com/assets/colab-badge.svg\" alt=\"Open In Colab\"/></a>"
      ]
    },
    {
      "cell_type": "markdown",
      "metadata": {
        "id": "xUKw6dtiGo-r"
      },
      "source": [
        "---\n",
        "<center>\n",
        "\n",
        "**University of Caloocan City**<br>\n",
        "Computer Engineering Department<br>\n",
        "Bagong Silang Campus</center>\n",
        "\n",
        "---\n",
        "<center><h4> Activity No. 2.2 and Title: Literals, Operators, and Variables-Supplementary Activity</h4></center>\n",
        "\n",
        "---\n",
        "<center>\n",
        "\n",
        "| Course: CPE 103 | Program: BSCpE |\n",
        "|--- | --- |\n",
        "| **Course Title**: Object Oriented Programming | **Date Performed:** 2-1-2025 |\n",
        "| **Section**: BSCpE - 1A  | **Date Submitted:** |\n",
        "| **Student Name**: Monoy, Justin Rhey A.  | **Instructor's Name:**Engr. Maria Rizette H. Sayo |\n",
        "</center>"
      ]
    },
    {
      "cell_type": "markdown",
      "source": [
        "**Objective/s of the activity:**\n",
        "\n",
        "1.   Implement literals and variables in a python program.\n",
        "2.   List item\n",
        "\n",
        "**Intended Learning Outcome:**\n",
        "\n",
        "1.   Write a simple program implementing literals and variables\n",
        "2.   Use comments and identify keywords from identifiers created by users.\n",
        "\n",
        "**Discussion:**\n",
        "\n",
        "(put your discussions here)\n",
        "\n",
        "**Materials and Equipment:**\n",
        "\n",
        "1. Python programming language\n",
        "2. Windows 10 above\n",
        "3. Desktop\n",
        "4. Internet\n",
        "5. Computer peripherals\n",
        "\n",
        "**Procedure:**\n",
        "\n",
        "1. Create a Python program to calculate student grades based on Prelim, Midterm, and Final exams, including Class Standing and activities.\n",
        "Key Concepts:\n",
        "\n",
        "Variables store data (grades).\n",
        "Constants hold fixed values (percentages for weights).\n",
        "Literals are values used directly in the code (e.g., 50, 0.50).\n",
        "\n",
        "2. Get inputs: exam scores and class standing for Prelim, Midterm, and Final.\n",
        "Calculate Prelim, Midterm, and Final grades using the formulas provided.\n",
        "Output the grades and the final numerical grade based on UCC grading system.   "
      ],
      "metadata": {
        "id": "gNe4D_l5JGiM"
      }
    },
    {
      "cell_type": "code",
      "source": [
        "# Input data\n",
        "name = input(\"Enter your name (Last name, First name Middle): \")\n",
        "section = input(\"Enter your section: \")\n",
        "#Prelim\n",
        "assignment = float(input(\"Enter Assignment Grade in Average (0-100): \"))\n",
        "hands_on_activity = float(input(\"Enter Hands on Activity Grade in Average (0-100): \"))\n",
        "quiz = float(input(\"Enter Quiz Grade in Average (0-100): \"))\n",
        "prelim_exam = float(input(\"Enter Prelim Exam in Average (0-100): \"))\n",
        "#Midterm\n",
        "assignment = float(input(\"Enter Assignment Grade in Average (0-100): \"))\n",
        "hands_on_activity = float(input(\"Enter Hands on Activity Grade in Average (0-100): \"))\n",
        "quiz = float(input(\"Enter Quiz Grade in Average (0-100): \"))\n",
        "midterm_exam = float(input(\"Enter Midterm Exam in Average (0-100): \"))\n",
        "#Final\n",
        "assignment = float(input(\"Enter Assignment Grade in Average (0-100): \"))\n",
        "hands_on_activity = float(input(\"Enter Hands on Activity Grade in Average (0-100): \"))\n",
        "quiz = float(input(\"Enter Quiz Grade in Average (0-100): \"))\n",
        "final_exam = float(input(\"Enter Final Exam in Average (0-100): \"))\n",
        "\n",
        "\n",
        "# Grade calculations\n",
        "#prelim\n",
        "prelim_cs = calculate_prelim_cs(hands_on_activity, quiz, assignment)\n",
        "prelim_grade = calculate_prelim_grade(prelim_exam, prelim_cs)\n",
        "prelim_numerical_grade = numerical_grade(prelim_grade)\n",
        "#midterm\n",
        "midterm_cs = calculate_midterm_cs(hands_on_activity, quiz, assignment)\n",
        "midterm_grade = calculate_midterm_grade(midterm_exam, midterm_cs)\n",
        "midterm_numerical_grade = numerical_grade(midterm_grade)\n",
        "#final\n",
        "final_cs = calculate_final_cs(hands_on_activity, quiz, assignment)\n",
        "final_grade = calculate_final_grade(final_exam, final_cs)\n",
        "final_numerical_grade = numerical_grade(final_grade)\n",
        "\n",
        "# Output\n",
        "print(\"\\nName:\", name)\n",
        "print(\"Section:\", section)\n",
        "print(\"Prelim Grade:\",prelim_numerical_grade)\n",
        "print(\"Midterm Grade:\", midterm_numerical_grade)\n",
        "print(\"Final Grade:\", final_numerical_grade)"
      ],
      "metadata": {
        "id": "WORPHnvZKBVE"
      },
      "execution_count": null,
      "outputs": []
    },
    {
      "cell_type": "markdown",
      "source": [
        "**Supplementary Activity**:\n",
        "\n",
        "1.\t Test 3 students from the program you created.\n",
        "2.\tThe program should show the name of the student, the PRELIM, MIDTERM and FINAL grades.\n",
        "3.\tConvert the final grade into the UCCs numerical grade. Please refer to the grading system."
      ],
      "metadata": {
        "id": "bV8A708BKFuC"
      }
    },
    {
      "cell_type": "code",
      "source": [
        "# Place all the output of the supplementary activity here"
      ],
      "metadata": {
        "id": "X2QfbKrmKOJK"
      },
      "execution_count": null,
      "outputs": []
    },
    {
      "cell_type": "markdown",
      "source": [
        "\n",
        "**Questions**: (write your answers in blue font color and questions in black)\n",
        "\n",
        "1.   List item\n",
        "2.   List item"
      ],
      "metadata": {
        "id": "0CYvOMNPKNEq"
      }
    },
    {
      "cell_type": "markdown",
      "source": [
        "**Conclusion**:\n",
        "To sum it up, this program will apply core concepts of programming to create a functioning grading system that includes function definitions, conditional statements, and mathematical operations. Because the program was structured into modular functions, readability and maintainability are improved to make it easier to modify as needed in the future. This program also supports the handling of user input and the presentation of formatted output. It therefore provided us with hands-on experience in Python programming, which greatly enhanced our capacity to develop applications that are well-structured and practical.\n"
      ],
      "metadata": {
        "id": "f8oM9wqYKuO1"
      }
    },
    {
      "cell_type": "code",
      "source": [
        "\n",
        "PHOA = float(input(\"Enter Hands-on Activity grade: \"))\n",
        "PQUIZ = float(input(\"Enter Prelim Quiz grade: \"))\n",
        "PAS = float(input(\"Enter Prelim Assignment grade: \"))\n",
        "PCS = PHOA*.5 + PQUIZ*.3 + PAS*.2\n",
        "print(\"Prelim CS is: \", PCS)\n",
        "PEX = float(input(\"Enter Prelim Exam grade: \"))\n",
        "PG = PEX*.5 + PCS*.5\n",
        "print(\"Prelim Grade is: \", \"%.2f\" % PG)\n",
        "\n"
      ],
      "metadata": {
        "id": "NHscsOjtxAtB"
      },
      "execution_count": null,
      "outputs": []
    }
  ],
  "metadata": {
    "kernelspec": {
      "display_name": "Python 3",
      "language": "python",
      "name": "python3"
    },
    "language_info": {
      "codemirror_mode": {
        "name": "ipython",
        "version": 3
      },
      "file_extension": ".py",
      "mimetype": "text/x-python",
      "name": "python",
      "nbconvert_exporter": "python",
      "pygments_lexer": "ipython3",
      "version": "3.7.3"
    },
    "colab": {
      "provenance": [],
      "include_colab_link": true
    }
  },
  "nbformat": 4,
  "nbformat_minor": 0
}