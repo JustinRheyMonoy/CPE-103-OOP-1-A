{
  "nbformat": 4,
  "nbformat_minor": 0,
  "metadata": {
    "colab": {
      "provenance": [],
      "authorship_tag": "ABX9TyPMqiLA4XHTOJ7kS4nIemCe",
      "include_colab_link": true
    },
    "kernelspec": {
      "name": "python3",
      "display_name": "Python 3"
    },
    "language_info": {
      "name": "python"
    }
  },
  "cells": [
    {
      "cell_type": "markdown",
      "metadata": {
        "id": "view-in-github",
        "colab_type": "text"
      },
      "source": [
        "<a href=\"https://colab.research.google.com/github/JustinRheyMonoy/CPE-103-OOP-1-A/blob/main/LABORATORY_2.ipynb\" target=\"_parent\"><img src=\"https://colab.research.google.com/assets/colab-badge.svg\" alt=\"Open In Colab\"/></a>"
      ]
    },
    {
      "cell_type": "markdown",
      "source": [
        "Assigning variables of different data types in Python"
      ],
      "metadata": {
        "id": "1pUlhCu6nw95"
      }
    },
    {
      "cell_type": "code",
      "source": [
        "value = 5\n",
        "print (value)"
      ],
      "metadata": {
        "colab": {
          "base_uri": "https://localhost:8080/"
        },
        "id": "YwG-7tp3nz4o",
        "outputId": "d875e66f-589d-4afa-d54d-76d3fbb2f920"
      },
      "execution_count": null,
      "outputs": [
        {
          "output_type": "stream",
          "name": "stdout",
          "text": [
            "5\n"
          ]
        }
      ]
    },
    {
      "cell_type": "code",
      "source": [
        "type (value)"
      ],
      "metadata": {
        "colab": {
          "base_uri": "https://localhost:8080/"
        },
        "id": "9MQPK17Hn9Lh",
        "outputId": "86e4bcf5-6754-4786-c557-ebffd4d5abfe"
      },
      "execution_count": null,
      "outputs": [
        {
          "output_type": "execute_result",
          "data": {
            "text/plain": [
              "int"
            ]
          },
          "metadata": {},
          "execution_count": 3
        }
      ]
    },
    {
      "cell_type": "code",
      "source": [
        "value = (5.0)\n",
        "print (value)"
      ],
      "metadata": {
        "colab": {
          "base_uri": "https://localhost:8080/"
        },
        "id": "IoAgWqBaoJI5",
        "outputId": "ce80f744-8630-4862-d805-c7b4e9f3fa61"
      },
      "execution_count": null,
      "outputs": [
        {
          "output_type": "stream",
          "name": "stdout",
          "text": [
            "5.0\n"
          ]
        }
      ]
    },
    {
      "cell_type": "code",
      "source": [
        "type (value)"
      ],
      "metadata": {
        "colab": {
          "base_uri": "https://localhost:8080/"
        },
        "id": "unuWBYgzoSah",
        "outputId": "561f5ef7-3bad-4c9c-d1b2-f39f7379da53"
      },
      "execution_count": null,
      "outputs": [
        {
          "output_type": "execute_result",
          "data": {
            "text/plain": [
              "float"
            ]
          },
          "metadata": {},
          "execution_count": 5
        }
      ]
    },
    {
      "cell_type": "code",
      "source": [
        "value = 2+3j\n",
        "print (value)"
      ],
      "metadata": {
        "colab": {
          "base_uri": "https://localhost:8080/"
        },
        "id": "j7QLcF1zoYAx",
        "outputId": "c359643e-744d-4798-e2da-ad531d55820c"
      },
      "execution_count": null,
      "outputs": [
        {
          "output_type": "stream",
          "name": "stdout",
          "text": [
            "(2+3j)\n"
          ]
        }
      ]
    },
    {
      "cell_type": "code",
      "source": [
        "type (value)"
      ],
      "metadata": {
        "colab": {
          "base_uri": "https://localhost:8080/"
        },
        "id": "yIwSW9rwoh5Z",
        "outputId": "05149b7d-e781-4851-d6d9-dbe40cf5c1bc"
      },
      "execution_count": null,
      "outputs": [
        {
          "output_type": "execute_result",
          "data": {
            "text/plain": [
              "complex"
            ]
          },
          "metadata": {},
          "execution_count": 7
        }
      ]
    },
    {
      "cell_type": "code",
      "source": [
        "value = 'Hello World'\n",
        "print (Value)"
      ],
      "metadata": {
        "colab": {
          "base_uri": "https://localhost:8080/"
        },
        "id": "dLczS9xDok7R",
        "outputId": "0e3a2d6d-6deb-47f8-8f4d-e6bd29a5edcf"
      },
      "execution_count": null,
      "outputs": [
        {
          "output_type": "stream",
          "name": "stdout",
          "text": [
            "Hello World\n"
          ]
        }
      ]
    },
    {
      "cell_type": "code",
      "source": [
        "type (value)"
      ],
      "metadata": {
        "colab": {
          "base_uri": "https://localhost:8080/"
        },
        "id": "liqZkdmHopNI",
        "outputId": "6fd16a16-4af4-4c25-bfcb-99453b50b59f"
      },
      "execution_count": null,
      "outputs": [
        {
          "output_type": "execute_result",
          "data": {
            "text/plain": [
              "complex"
            ]
          },
          "metadata": {},
          "execution_count": 11
        }
      ]
    },
    {
      "cell_type": "code",
      "source": [
        "value = \"Hello World\"\n",
        "print (value)"
      ],
      "metadata": {
        "colab": {
          "base_uri": "https://localhost:8080/"
        },
        "id": "FIRbKgCYotIc",
        "outputId": "fbb53e08-b13c-4d3b-e4b6-b37dde3c9ab5"
      },
      "execution_count": null,
      "outputs": [
        {
          "output_type": "stream",
          "name": "stdout",
          "text": [
            "Hello World\n"
          ]
        }
      ]
    },
    {
      "cell_type": "code",
      "source": [
        "del type"
      ],
      "metadata": {
        "id": "NLxcLpldo6ik"
      },
      "execution_count": null,
      "outputs": []
    },
    {
      "cell_type": "code",
      "source": [
        "type (value)"
      ],
      "metadata": {
        "colab": {
          "base_uri": "https://localhost:8080/"
        },
        "id": "g5UTpiitrCHn",
        "outputId": "0a4ea112-7090-42a8-b3da-e2fe06f86999"
      },
      "execution_count": null,
      "outputs": [
        {
          "output_type": "execute_result",
          "data": {
            "text/plain": [
              "str"
            ]
          },
          "metadata": {},
          "execution_count": 32
        }
      ]
    },
    {
      "cell_type": "code",
      "source": [
        "value = True\n",
        "print (value)"
      ],
      "metadata": {
        "colab": {
          "base_uri": "https://localhost:8080/"
        },
        "id": "buBD_Yj_puwe",
        "outputId": "362088cc-e892-4a79-f8b0-7f64158663a3"
      },
      "execution_count": null,
      "outputs": [
        {
          "output_type": "stream",
          "name": "stdout",
          "text": [
            "True\n"
          ]
        }
      ]
    },
    {
      "cell_type": "code",
      "source": [
        "type (value)"
      ],
      "metadata": {
        "colab": {
          "base_uri": "https://localhost:8080/"
        },
        "id": "CVnhFfCCp9IB",
        "outputId": "caa7086d-ccfc-4b55-81bb-647dfe5f15ea"
      },
      "execution_count": null,
      "outputs": [
        {
          "output_type": "execute_result",
          "data": {
            "text/plain": [
              "str"
            ]
          },
          "metadata": {},
          "execution_count": 34
        }
      ]
    },
    {
      "cell_type": "code",
      "source": [
        "value = False\n",
        "print (value)"
      ],
      "metadata": {
        "colab": {
          "base_uri": "https://localhost:8080/"
        },
        "id": "s4rnCSDkrLEX",
        "outputId": "706353d7-6fb2-4509-e749-ef8ddb336305"
      },
      "execution_count": null,
      "outputs": [
        {
          "output_type": "stream",
          "name": "stdout",
          "text": [
            "False\n"
          ]
        }
      ]
    },
    {
      "cell_type": "code",
      "source": [
        "type (value)"
      ],
      "metadata": {
        "colab": {
          "base_uri": "https://localhost:8080/"
        },
        "id": "bheRthcurZWM",
        "outputId": "7501085a-f7c1-4761-aa7a-9b22f410d464"
      },
      "execution_count": null,
      "outputs": [
        {
          "output_type": "execute_result",
          "data": {
            "text/plain": [
              "bool"
            ]
          },
          "metadata": {},
          "execution_count": 38
        }
      ]
    },
    {
      "cell_type": "code",
      "source": [
        "value = [1,2,3,4,5]\n",
        "print (value)"
      ],
      "metadata": {
        "colab": {
          "base_uri": "https://localhost:8080/"
        },
        "id": "U3BQ6VcErbpi",
        "outputId": "bb09e919-be3c-494e-892a-ff7571a64953"
      },
      "execution_count": null,
      "outputs": [
        {
          "output_type": "stream",
          "name": "stdout",
          "text": [
            "[1, 2, 3, 4, 5]\n"
          ]
        }
      ]
    },
    {
      "cell_type": "code",
      "source": [
        "type (value)"
      ],
      "metadata": {
        "colab": {
          "base_uri": "https://localhost:8080/"
        },
        "id": "Xw9NQZk-rgfH",
        "outputId": "4bace749-755c-4a6f-992a-fec26eea5b05"
      },
      "execution_count": null,
      "outputs": [
        {
          "output_type": "execute_result",
          "data": {
            "text/plain": [
              "list"
            ]
          },
          "metadata": {},
          "execution_count": 40
        }
      ]
    },
    {
      "cell_type": "code",
      "source": [
        "value = (1,2,3,4,5)\n",
        "print (value)"
      ],
      "metadata": {
        "colab": {
          "base_uri": "https://localhost:8080/"
        },
        "id": "d89ybTZBrhtP",
        "outputId": "b16c20ce-0817-4132-9b31-d11c9e14922b"
      },
      "execution_count": null,
      "outputs": [
        {
          "output_type": "stream",
          "name": "stdout",
          "text": [
            "(1, 2, 3, 4, 5)\n"
          ]
        }
      ]
    },
    {
      "cell_type": "code",
      "source": [
        "type (value)"
      ],
      "metadata": {
        "colab": {
          "base_uri": "https://localhost:8080/"
        },
        "id": "DIoJtDmnrkhg",
        "outputId": "0ab45c1b-a876-4292-e3c2-6cb87b7d3f25"
      },
      "execution_count": null,
      "outputs": [
        {
          "output_type": "execute_result",
          "data": {
            "text/plain": [
              "tuple"
            ]
          },
          "metadata": {},
          "execution_count": 43
        }
      ]
    },
    {
      "cell_type": "code",
      "source": [
        "value = {'name': 'Justin Rhey'}\n",
        "print (value)"
      ],
      "metadata": {
        "colab": {
          "base_uri": "https://localhost:8080/"
        },
        "id": "1diw8HH2rorP",
        "outputId": "fc80f97e-54fb-4611-c021-8ffd9588980c"
      },
      "execution_count": null,
      "outputs": [
        {
          "output_type": "stream",
          "name": "stdout",
          "text": [
            "{'name': 'Justin Rhey'}\n"
          ]
        }
      ]
    },
    {
      "cell_type": "code",
      "source": [
        "type (value)"
      ],
      "metadata": {
        "colab": {
          "base_uri": "https://localhost:8080/"
        },
        "id": "LS8oEXvvr1zk",
        "outputId": "834ebf7d-b66d-4a88-b775-af3cee366059"
      },
      "execution_count": null,
      "outputs": [
        {
          "output_type": "execute_result",
          "data": {
            "text/plain": [
              "dict"
            ]
          },
          "metadata": {},
          "execution_count": 45
        }
      ]
    },
    {
      "cell_type": "code",
      "source": [
        "value = None\n",
        "print (value)"
      ],
      "metadata": {
        "colab": {
          "base_uri": "https://localhost:8080/"
        },
        "id": "kok6367Jr5cr",
        "outputId": "d55eb787-d482-4ff9-f948-5ea0cf7c3e07"
      },
      "execution_count": null,
      "outputs": [
        {
          "output_type": "stream",
          "name": "stdout",
          "text": [
            "None\n"
          ]
        }
      ]
    },
    {
      "cell_type": "code",
      "source": [
        "type (value)"
      ],
      "metadata": {
        "colab": {
          "base_uri": "https://localhost:8080/"
        },
        "id": "unZZehivr_i_",
        "outputId": "97dc9bcb-e1da-4663-9bd0-67804a81d9a9"
      },
      "execution_count": null,
      "outputs": [
        {
          "output_type": "execute_result",
          "data": {
            "text/plain": [
              "NoneType"
            ]
          },
          "metadata": {},
          "execution_count": 47
        }
      ]
    },
    {
      "cell_type": "code",
      "source": [
        "value = 5\n",
        "value2 = -6"
      ],
      "metadata": {
        "id": "BrAxXWO9sB4n"
      },
      "execution_count": null,
      "outputs": []
    },
    {
      "cell_type": "markdown",
      "source": [
        "Performing Operations with Python"
      ],
      "metadata": {
        "id": "M2aeuRnasXsd"
      }
    },
    {
      "cell_type": "code",
      "source": [
        "print (value+value2)"
      ],
      "metadata": {
        "colab": {
          "base_uri": "https://localhost:8080/"
        },
        "id": "WyBuJxQtsYyX",
        "outputId": "bd1043b0-4ce6-4cc2-83f1-4fc163974245"
      },
      "execution_count": null,
      "outputs": [
        {
          "output_type": "stream",
          "name": "stdout",
          "text": [
            "-1\n"
          ]
        }
      ]
    },
    {
      "cell_type": "code",
      "source": [
        "value = 5.0\n",
        "value2 = 6"
      ],
      "metadata": {
        "id": "qLzRYqOXsfIY"
      },
      "execution_count": null,
      "outputs": []
    },
    {
      "cell_type": "code",
      "source": [
        "print (value+value2)"
      ],
      "metadata": {
        "colab": {
          "base_uri": "https://localhost:8080/"
        },
        "id": "-D081oDFsnoL",
        "outputId": "ec8bdf63-b908-47f4-ef1c-d17a6262b88b"
      },
      "execution_count": null,
      "outputs": [
        {
          "output_type": "stream",
          "name": "stdout",
          "text": [
            "11.0\n"
          ]
        }
      ]
    },
    {
      "cell_type": "code",
      "source": [
        "value = -5\n",
        "value2 = 6.1"
      ],
      "metadata": {
        "id": "64gU_e-mszX7"
      },
      "execution_count": null,
      "outputs": []
    },
    {
      "cell_type": "code",
      "source": [
        "print (value+value2)"
      ],
      "metadata": {
        "colab": {
          "base_uri": "https://localhost:8080/"
        },
        "id": "VHNTDZyks4DN",
        "outputId": "36d54f70-959a-49b5-ff05-8c4224e03738"
      },
      "execution_count": null,
      "outputs": [
        {
          "output_type": "stream",
          "name": "stdout",
          "text": [
            "1.0999999999999996\n"
          ]
        }
      ]
    },
    {
      "cell_type": "code",
      "source": [
        "value = \"Hello\"\n",
        "value2 = \" world\""
      ],
      "metadata": {
        "id": "e9iEtJSNs7R0"
      },
      "execution_count": null,
      "outputs": []
    },
    {
      "cell_type": "code",
      "source": [
        "print (value+ value2)"
      ],
      "metadata": {
        "colab": {
          "base_uri": "https://localhost:8080/"
        },
        "id": "VRBZfidDs-pM",
        "outputId": "56c060a0-c5c7-4c7f-8a2d-dbbfa43019e6"
      },
      "execution_count": null,
      "outputs": [
        {
          "output_type": "stream",
          "name": "stdout",
          "text": [
            "Hello world\n"
          ]
        }
      ]
    },
    {
      "cell_type": "code",
      "source": [
        "value = [1,2,3]\n",
        "value2 = [4,5,6]"
      ],
      "metadata": {
        "id": "37fa60FgtB_E"
      },
      "execution_count": null,
      "outputs": []
    },
    {
      "cell_type": "code",
      "source": [
        "print (value+value2)"
      ],
      "metadata": {
        "colab": {
          "base_uri": "https://localhost:8080/"
        },
        "id": "mVy8Gsyit2CH",
        "outputId": "fcda37cb-c3c8-498f-ebbc-d8867ad81370"
      },
      "execution_count": null,
      "outputs": [
        {
          "output_type": "stream",
          "name": "stdout",
          "text": [
            "[1, 2, 3, 4, 5, 6]\n"
          ]
        }
      ]
    },
    {
      "cell_type": "code",
      "source": [
        "value = (1,2,3)\n",
        "value2 = (4,5,6)"
      ],
      "metadata": {
        "id": "2EtAx5Yet4E-"
      },
      "execution_count": null,
      "outputs": []
    },
    {
      "cell_type": "code",
      "source": [
        "print (value+value2)"
      ],
      "metadata": {
        "colab": {
          "base_uri": "https://localhost:8080/"
        },
        "id": "N_Uj8SAKt9qv",
        "outputId": "42fb3932-2fe2-45a5-fd84-40a2eaa2a647"
      },
      "execution_count": null,
      "outputs": [
        {
          "output_type": "stream",
          "name": "stdout",
          "text": [
            "(1, 2, 3, 4, 5, 6)\n"
          ]
        }
      ]
    },
    {
      "cell_type": "code",
      "source": [
        "value = {\"name\":\"Justin\"}\n",
        "value2 = {\"age\":19}"
      ],
      "metadata": {
        "id": "Rx9Hc8xKuCkY"
      },
      "execution_count": null,
      "outputs": []
    },
    {
      "cell_type": "code",
      "source": [
        "print (value, value2)"
      ],
      "metadata": {
        "colab": {
          "base_uri": "https://localhost:8080/"
        },
        "id": "UCr5hXOduVSB",
        "outputId": "0c27b6fe-3aa5-4dfb-91d6-7a764e004c11"
      },
      "execution_count": null,
      "outputs": [
        {
          "output_type": "stream",
          "name": "stdout",
          "text": [
            "{'name': 'Justin'} {'age': 19}\n"
          ]
        }
      ]
    },
    {
      "cell_type": "code",
      "source": [
        "value = 30\n",
        "value2 = 4"
      ],
      "metadata": {
        "id": "_tTOyrxCuYup"
      },
      "execution_count": null,
      "outputs": []
    },
    {
      "cell_type": "code",
      "source": [
        "print (value*value2)"
      ],
      "metadata": {
        "colab": {
          "base_uri": "https://localhost:8080/"
        },
        "id": "3sk4KqB-vYrk",
        "outputId": "f23d8c62-2075-4815-86ac-4aba5191ed41"
      },
      "execution_count": null,
      "outputs": [
        {
          "output_type": "stream",
          "name": "stdout",
          "text": [
            "120\n"
          ]
        }
      ]
    },
    {
      "cell_type": "code",
      "source": [
        "print (value2**2)"
      ],
      "metadata": {
        "colab": {
          "base_uri": "https://localhost:8080/"
        },
        "id": "dlFXx0dJvgkz",
        "outputId": "360effdb-2d3b-46dc-bed8-d4eb0190eb1f"
      },
      "execution_count": null,
      "outputs": [
        {
          "output_type": "stream",
          "name": "stdout",
          "text": [
            "16\n"
          ]
        }
      ]
    },
    {
      "cell_type": "code",
      "source": [
        "print (value2**3)"
      ],
      "metadata": {
        "colab": {
          "base_uri": "https://localhost:8080/"
        },
        "id": "CJkSEYrPvnjd",
        "outputId": "56a70985-df8b-4418-e442-df3fc4f205d3"
      },
      "execution_count": null,
      "outputs": [
        {
          "output_type": "stream",
          "name": "stdout",
          "text": [
            "64\n"
          ]
        }
      ]
    },
    {
      "cell_type": "code",
      "source": [
        "print (value*value2+value2**2+1)"
      ],
      "metadata": {
        "colab": {
          "base_uri": "https://localhost:8080/"
        },
        "id": "AaE3nUAEvrRt",
        "outputId": "c4bccfc8-9388-4d68-a341-4116b7a22c6b"
      },
      "execution_count": null,
      "outputs": [
        {
          "output_type": "stream",
          "name": "stdout",
          "text": [
            "137\n"
          ]
        }
      ]
    },
    {
      "cell_type": "code",
      "source": [
        "print (value/value2)"
      ],
      "metadata": {
        "colab": {
          "base_uri": "https://localhost:8080/"
        },
        "id": "7nzBL1O-vwrM",
        "outputId": "400af298-8dcb-4b4c-9d83-cb340e43e55a"
      },
      "execution_count": null,
      "outputs": [
        {
          "output_type": "stream",
          "name": "stdout",
          "text": [
            "7.5\n"
          ]
        }
      ]
    },
    {
      "cell_type": "code",
      "source": [
        "print (value%value2)"
      ],
      "metadata": {
        "colab": {
          "base_uri": "https://localhost:8080/"
        },
        "id": "Q8C1FNd1vzet",
        "outputId": "dec0a8f4-e28c-476b-cfef-9e040c5e4087"
      },
      "execution_count": 110,
      "outputs": [
        {
          "output_type": "stream",
          "name": "stdout",
          "text": [
            "2\n"
          ]
        }
      ]
    },
    {
      "cell_type": "markdown",
      "source": [
        "Receiving Input Data using Python"
      ],
      "metadata": {
        "id": "zYHEiBzCv76n"
      }
    },
    {
      "cell_type": "code",
      "source": [
        "input(\"Message Name \")"
      ],
      "metadata": {
        "id": "dK_sM4sNv81G",
        "colab": {
          "base_uri": "https://localhost:8080/",
          "height": 53
        },
        "outputId": "2f60b7e1-2a7b-447a-dad3-09cd5b7b754a"
      },
      "execution_count": 3,
      "outputs": [
        {
          "name": "stdout",
          "output_type": "stream",
          "text": [
            "Message Name Justin\n"
          ]
        },
        {
          "output_type": "execute_result",
          "data": {
            "text/plain": [
              "'Justin'"
            ],
            "application/vnd.google.colaboratory.intrinsic+json": {
              "type": "string"
            }
          },
          "metadata": {},
          "execution_count": 3
        }
      ]
    },
    {
      "cell_type": "code",
      "source": [
        "Name = input(\"What is your name? \")"
      ],
      "metadata": {
        "id": "BzL-sqv0wNwe",
        "colab": {
          "base_uri": "https://localhost:8080/"
        },
        "outputId": "dd740289-41b4-4448-a417-a1b58c392e04"
      },
      "execution_count": 4,
      "outputs": [
        {
          "name": "stdout",
          "output_type": "stream",
          "text": [
            "What is your name? Justin Rhey A. Monoy\n"
          ]
        }
      ]
    },
    {
      "cell_type": "markdown",
      "source": [
        "Assigning Input Data to a Variable"
      ],
      "metadata": {
        "id": "KtAGcmr7wrKo"
      }
    },
    {
      "cell_type": "code",
      "source": [
        "name = input(\"Enter your name? \")"
      ],
      "metadata": {
        "id": "ElodYZdiwrzH",
        "colab": {
          "base_uri": "https://localhost:8080/"
        },
        "outputId": "cd506c1d-e86a-449f-c526-ea269dcd02d3"
      },
      "execution_count": 18,
      "outputs": [
        {
          "name": "stdout",
          "output_type": "stream",
          "text": [
            "Enter your name? Justin Rhey A. Monoy\n"
          ]
        }
      ]
    },
    {
      "cell_type": "code",
      "source": [
        "weight = input(\"Enter your weight(kg): \")"
      ],
      "metadata": {
        "colab": {
          "base_uri": "https://localhost:8080/"
        },
        "id": "nTO6DQAhwsde",
        "outputId": "03e7ae72-02dd-40e0-9a90-2d24e58e71db"
      },
      "execution_count": 6,
      "outputs": [
        {
          "name": "stdout",
          "output_type": "stream",
          "text": [
            "Enter your weight(kg): 51\n"
          ]
        }
      ]
    },
    {
      "cell_type": "code",
      "source": [
        "weight = float(weight)"
      ],
      "metadata": {
        "id": "7kX2GUIXzP_s"
      },
      "execution_count": 10,
      "outputs": []
    },
    {
      "cell_type": "code",
      "source": [
        "height = input(\"Enter your height(m): \")"
      ],
      "metadata": {
        "colab": {
          "base_uri": "https://localhost:8080/"
        },
        "id": "yZhGQsskxMLq",
        "outputId": "305c97e2-d3b3-44be-f7b7-07ecaf524435"
      },
      "execution_count": 8,
      "outputs": [
        {
          "name": "stdout",
          "output_type": "stream",
          "text": [
            "Enter your height(m): 1.71\n"
          ]
        }
      ]
    },
    {
      "cell_type": "code",
      "source": [
        "height = float(height)"
      ],
      "metadata": {
        "id": "MMoy82UIzW6K"
      },
      "execution_count": 12,
      "outputs": []
    },
    {
      "cell_type": "code",
      "source": [
        "bmi = weight/height**2"
      ],
      "metadata": {
        "id": "TsDtRCQ3xThB"
      },
      "execution_count": 15,
      "outputs": []
    },
    {
      "cell_type": "code",
      "source": [
        "print(\"Name:\",name)\n",
        "print(\"Weight:\", weight ,\"kg\")\n",
        "print(\"Height:\", height,\"m\")\n",
        "print(\"BMI:\", bmi)"
      ],
      "metadata": {
        "id": "9aEJsag4xZaK",
        "colab": {
          "base_uri": "https://localhost:8080/"
        },
        "outputId": "8e0fe689-0f46-418c-b6a9-3f00c3ff7e45"
      },
      "execution_count": 27,
      "outputs": [
        {
          "output_type": "stream",
          "name": "stdout",
          "text": [
            "Name: Justin Rhey A. Monoy\n",
            "Weight: 51.0 kg\n",
            "Height: 1.71 m\n",
            "BMI: 17.441263978660103\n"
          ]
        }
      ]
    },
    {
      "cell_type": "markdown",
      "source": [
        "Supplementary Activity:"
      ],
      "metadata": {
        "id": "7iv5cj270tct"
      }
    },
    {
      "cell_type": "markdown",
      "source": [
        "1.\tWrite the Python equivalent code of the following C code:"
      ],
      "metadata": {
        "id": "7i542Zxq1Ok1"
      }
    },
    {
      "cell_type": "code",
      "source": [
        "base = 0\n",
        "height = 0\n",
        "area = 0\n",
        "print (\"Enter the  base of the triangle: \")\n",
        "base = input()\n",
        "base = float(base)\n",
        "print (\"Enter the height of the triangle: \")\n",
        "height = input()\n",
        "height = float(height)\n",
        "area = 0.5*base*height\n",
        "print (\"The area of the triangle is: \", area)"
      ],
      "metadata": {
        "colab": {
          "base_uri": "https://localhost:8080/"
        },
        "id": "t6DyApxA0u4M",
        "outputId": "b65cc48a-1684-455e-b13d-3e3305393474"
      },
      "execution_count": 33,
      "outputs": [
        {
          "output_type": "stream",
          "name": "stdout",
          "text": [
            "Enter the  base of the triangle: \n",
            "12\n",
            "Enter the height of the triangle: \n",
            "11\n",
            "The area of the triangle is:  66.0\n"
          ]
        }
      ]
    },
    {
      "cell_type": "markdown",
      "source": [
        "2.\tWrite a program that would convert Celsius to Fahrenheit given the formula: F = (C × 9/5) + 32 Example of conversion:"
      ],
      "metadata": {
        "id": "nF5WP_yP3WqO"
      }
    },
    {
      "cell_type": "code",
      "source": [
        "celcius = 0\n",
        "fahrenheit = 0\n",
        "print (\"Enter the temperature in Celcius: \")\n",
        "celcius = input()\n",
        "celcius = float(celcius)\n",
        "fahrenheit = (celcius*9/5)+32\n",
        "print (\"The temperature in Fahrenheit is: \", fahrenheit)\n",
        "#"
      ],
      "metadata": {
        "colab": {
          "base_uri": "https://localhost:8080/"
        },
        "id": "7zgVaLRk3HiT",
        "outputId": "fe1d5473-e064-435a-8186-41abe624e7c9"
      },
      "execution_count": 34,
      "outputs": [
        {
          "output_type": "stream",
          "name": "stdout",
          "text": [
            "Enter the temperature in Celcius: \n",
            "0\n",
            "The temperature in Fahrenheit is:  32.0\n"
          ]
        }
      ]
    },
    {
      "cell_type": "markdown",
      "source": [
        "3.\tWrite a program that can determine the distance between two points given the coordinates using the formula:\n",
        "\n",
        "𝒅 = √(𝒙𝟐 − 𝒙𝟏)𝟐 + (𝒚𝟐 − 𝒚𝟏)𝟐"
      ],
      "metadata": {
        "id": "qr-XqmMU4raH"
      }
    },
    {
      "cell_type": "code",
      "source": [
        "x1 = 0\n",
        "y1 = 0\n",
        "x2 = 0\n",
        "y = 0\n",
        "print (\"Enter the first point's x coordinate: \")\n",
        "x1 = input()\n",
        "x1 = float(x1)\n",
        "print (\"Enter the first point's y coordinate: \")\n",
        "y1 = input()\n",
        "y1 = float(y1)\n",
        "print (\"Enter the second point's x coordinate: \")\n",
        "x2 = input()\n",
        "x2 = float(x2)\n",
        "print (\"Enter the second point's y coordinate: \")\n",
        "y2 = input()\n",
        "y2 = float(y2)\n",
        "distance = ((x2-x1)**2+(y2-y1)**2)**0.5\n",
        "print (\"The distance between the two points is: \", distance)\n",
        "#"
      ],
      "metadata": {
        "colab": {
          "base_uri": "https://localhost:8080/"
        },
        "id": "70vybBJ_4uNH",
        "outputId": "7c92ccb4-2956-4abe-9c9f-440189df5c45"
      },
      "execution_count": 35,
      "outputs": [
        {
          "output_type": "stream",
          "name": "stdout",
          "text": [
            "Enter the first point's x coordinate: \n",
            "0\n",
            "Enter the first point's y coordinate: \n",
            "0\n",
            "Enter the second point's x coordinate: \n",
            "6\n",
            "Enter the second point's y coordinate: \n",
            "8\n",
            "The distance between the two points is:  10.0\n"
          ]
        }
      ]
    },
    {
      "cell_type": "code",
      "source": [],
      "metadata": {
        "id": "XLgRH33j5eVl"
      },
      "execution_count": null,
      "outputs": []
    }
  ]
}
