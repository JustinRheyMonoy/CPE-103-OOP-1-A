{
  "nbformat": 4,
  "nbformat_minor": 0,
  "metadata": {
    "colab": {
      "provenance": [],
      "authorship_tag": "ABX9TyNRqGSulDuAAKQ4fMk9+vvF",
      "include_colab_link": true
    },
    "kernelspec": {
      "name": "python3",
      "display_name": "Python 3"
    },
    "language_info": {
      "name": "python"
    }
  },
  "cells": [
    {
      "cell_type": "markdown",
      "metadata": {
        "id": "view-in-github",
        "colab_type": "text"
      },
      "source": [
        "<a href=\"https://colab.research.google.com/github/JustinRheyMonoy/CPE-103-OOP-1-A/blob/main/PythonFundamentals.ipynb\" target=\"_parent\"><img src=\"https://colab.research.google.com/assets/colab-badge.svg\" alt=\"Open In Colab\"/></a>"
      ]
    },
    {
      "cell_type": "markdown",
      "source": [
        "PYTHON INDENTATION"
      ],
      "metadata": {
        "id": "161s1TBSFgf2"
      }
    },
    {
      "cell_type": "code",
      "source": [
        "if 5>2: print (\"Five is greater that two!\")"
      ],
      "metadata": {
        "colab": {
          "base_uri": "https://localhost:8080/"
        },
        "id": "SDsGrh5dGvpf",
        "outputId": "9c3076f4-11f6-459e-87b1-c11d2fc53b0c"
      },
      "execution_count": 6,
      "outputs": [
        {
          "output_type": "stream",
          "name": "stdout",
          "text": [
            "Five is greater that two!\n"
          ]
        }
      ]
    },
    {
      "cell_type": "code",
      "source": [
        "print(\"Hello, World\")"
      ],
      "metadata": {
        "colab": {
          "base_uri": "https://localhost:8080/"
        },
        "id": "4uML49KiHF2P",
        "outputId": "cf2f6438-1743-4378-b7df-bb3501b82b34"
      },
      "execution_count": 5,
      "outputs": [
        {
          "output_type": "stream",
          "name": "stdout",
          "text": [
            "Hello, World\n"
          ]
        }
      ]
    },
    {
      "cell_type": "code",
      "source": [
        "myvar = \"John\""
      ],
      "metadata": {
        "id": "S7Bg4qGKHWUH"
      },
      "execution_count": 10,
      "outputs": []
    },
    {
      "cell_type": "code",
      "source": [
        "myvar2 = \"John\""
      ],
      "metadata": {
        "id": "Xo0aawTUISyo"
      },
      "execution_count": 13,
      "outputs": []
    },
    {
      "cell_type": "code",
      "source": [
        "_my_var = \"john\""
      ],
      "metadata": {
        "id": "hm_ZD9X3IiHw"
      },
      "execution_count": 15,
      "outputs": []
    },
    {
      "cell_type": "code",
      "source": [
        "myVar = \"John\""
      ],
      "metadata": {
        "id": "QU0tn2AOIpig"
      },
      "execution_count": 17,
      "outputs": []
    },
    {
      "cell_type": "code",
      "source": [
        "my_var = \"John\""
      ],
      "metadata": {
        "id": "L3_ouow2Iz-H"
      },
      "execution_count": 19,
      "outputs": []
    },
    {
      "cell_type": "markdown",
      "source": [
        "Python Variable"
      ],
      "metadata": {
        "id": "EMiq7ToTKUoP"
      }
    },
    {
      "cell_type": "code",
      "source": [
        "x = 1\n",
        "a,b = 0, -1\n",
        "a,b, c = 0, -1, 2\n",
        "b = \"Sally\"\n",
        "\n",
        "print (a,b,c)"
      ],
      "metadata": {
        "colab": {
          "base_uri": "https://localhost:8080/"
        },
        "id": "QMFpFSNdKXBX",
        "outputId": "610283ea-4f73-4ae9-ebc9-50ad7a2773fd"
      },
      "execution_count": 47,
      "outputs": [
        {
          "output_type": "stream",
          "name": "stdout",
          "text": [
            "0 Sally 2\n"
          ]
        }
      ]
    },
    {
      "cell_type": "markdown",
      "source": [
        "Casting"
      ],
      "metadata": {
        "id": "Ff2VAtGdMPGA"
      }
    },
    {
      "cell_type": "code",
      "source": [
        "b = \"sally\"\n",
        "b = int(4)\n",
        "print (b)\n"
      ],
      "metadata": {
        "colab": {
          "base_uri": "https://localhost:8080/"
        },
        "id": "ASTJtUsfMRXI",
        "outputId": "ce9298de-165d-4355-fb09-32fc283e18c6"
      },
      "execution_count": 46,
      "outputs": [
        {
          "output_type": "stream",
          "name": "stdout",
          "text": [
            "4\n"
          ]
        }
      ]
    },
    {
      "cell_type": "code",
      "source": [
        "b=float(4)\n",
        "print(b)"
      ],
      "metadata": {
        "colab": {
          "base_uri": "https://localhost:8080/"
        },
        "id": "PSpJRz4dMfEo",
        "outputId": "c2e47e8c-1ba0-4eae-994d-a0e6294e527a"
      },
      "execution_count": 39,
      "outputs": [
        {
          "output_type": "stream",
          "name": "stdout",
          "text": [
            "4.0\n"
          ]
        }
      ]
    },
    {
      "cell_type": "markdown",
      "source": [
        "Type() function"
      ],
      "metadata": {
        "id": "ii7Qp5PQOLzY"
      }
    },
    {
      "cell_type": "code",
      "source": [
        "x = 5\n",
        "y = \"john\"\n",
        "print (type(x))\n",
        "print (type(y))"
      ],
      "metadata": {
        "colab": {
          "base_uri": "https://localhost:8080/"
        },
        "id": "7GYiO2wtNmHR",
        "outputId": "408c0798-23ba-469e-a0e4-90b504543d69"
      },
      "execution_count": 52,
      "outputs": [
        {
          "output_type": "stream",
          "name": "stdout",
          "text": [
            "<class 'int'>\n",
            "<class 'str'>\n"
          ]
        }
      ]
    },
    {
      "cell_type": "markdown",
      "source": [
        "“Double quotes” or ‘Single’ quotes"
      ],
      "metadata": {
        "id": "4pyIgP-xOC1I"
      }
    },
    {
      "cell_type": "code",
      "source": [
        "y = \"John\"\n",
        "y = 'John'"
      ],
      "metadata": {
        "id": "2KWVRcErN5pw"
      },
      "execution_count": 53,
      "outputs": []
    },
    {
      "cell_type": "markdown",
      "source": [
        "Case sensitive"
      ],
      "metadata": {
        "id": "J0TvDnoGORZo"
      }
    },
    {
      "cell_type": "code",
      "source": [
        "a = 4\n",
        "A = \"Sally\"\n",
        "print (a,A)"
      ],
      "metadata": {
        "colab": {
          "base_uri": "https://localhost:8080/"
        },
        "id": "CBtsS1GIOR7R",
        "outputId": "343cf858-6f36-4e4f-b150-7405e82ba16a"
      },
      "execution_count": 55,
      "outputs": [
        {
          "output_type": "stream",
          "name": "stdout",
          "text": [
            "4 Sally\n"
          ]
        }
      ]
    },
    {
      "cell_type": "markdown",
      "source": [
        "Multiple Variables"
      ],
      "metadata": {
        "id": "Pr98hr5FOlEQ"
      }
    },
    {
      "cell_type": "code",
      "source": [
        "x,y,z = \"one\", \"two\", \"three\"\n",
        "print (x)\n",
        "print (y)\n",
        "print (z)"
      ],
      "metadata": {
        "colab": {
          "base_uri": "https://localhost:8080/"
        },
        "id": "48vkdbSWOpbR",
        "outputId": "eeb057bc-f943-4445-b06c-f757b81656e2"
      },
      "execution_count": 58,
      "outputs": [
        {
          "output_type": "stream",
          "name": "stdout",
          "text": [
            "one\n",
            "two\n",
            "three\n"
          ]
        }
      ]
    },
    {
      "cell_type": "markdown",
      "source": [
        "One Value to Multiple Variables"
      ],
      "metadata": {
        "id": "hqi3rtfRPQmY"
      }
    },
    {
      "cell_type": "code",
      "source": [
        "x=y=z=\"four\"\n",
        "print (x)\n",
        "print (y)\n",
        "print (z)"
      ],
      "metadata": {
        "colab": {
          "base_uri": "https://localhost:8080/"
        },
        "id": "xKM9KghhPWHY",
        "outputId": "3c1b0f7b-26a8-419c-affc-449674817a38"
      },
      "execution_count": 60,
      "outputs": [
        {
          "output_type": "stream",
          "name": "stdout",
          "text": [
            "four\n",
            "four\n",
            "four\n"
          ]
        }
      ]
    },
    {
      "cell_type": "markdown",
      "source": [
        "Output Variables"
      ],
      "metadata": {
        "id": "lNqMgNQmP1kj"
      }
    },
    {
      "cell_type": "code",
      "source": [
        "x = \"enjoying\"\n",
        "y = \"but\"\n",
        "z = \"tiring\"\n",
        "print (\"Python programming is \" + x,y,z)"
      ],
      "metadata": {
        "colab": {
          "base_uri": "https://localhost:8080/"
        },
        "id": "vhqkKYeqP3Pg",
        "outputId": "b9c8c688-fa51-48cb-b4c5-fc182b91abbe"
      },
      "execution_count": 72,
      "outputs": [
        {
          "output_type": "stream",
          "name": "stdout",
          "text": [
            "Python programming is enjoying but tiring\n"
          ]
        }
      ]
    },
    {
      "cell_type": "code",
      "source": [
        "l = \"Python programming is\"\n",
        "x = \" enjoying\"\n",
        "y = \" but\"\n",
        "z = \" tiring\"\n",
        "b = (l+x+y+z)\n",
        "print (b)"
      ],
      "metadata": {
        "colab": {
          "base_uri": "https://localhost:8080/"
        },
        "id": "RXOdf1hRQnhQ",
        "outputId": "40e491d5-4645-4cfa-b0f6-315ed4452296"
      },
      "execution_count": 76,
      "outputs": [
        {
          "output_type": "stream",
          "name": "stdout",
          "text": [
            "Python programming is enjoying but tiring\n"
          ]
        }
      ]
    },
    {
      "cell_type": "markdown",
      "source": [
        "Arithmetic Operations"
      ],
      "metadata": {
        "id": "WKIKcPEnRQC8"
      }
    },
    {
      "cell_type": "code",
      "source": [
        "x = 5\n",
        "y = 3\n",
        "print (x+y)"
      ],
      "metadata": {
        "colab": {
          "base_uri": "https://localhost:8080/"
        },
        "id": "EEmRxVsrRQj6",
        "outputId": "15a8bd45-2094-43fd-a564-d4523612c52e"
      },
      "execution_count": 77,
      "outputs": [
        {
          "output_type": "stream",
          "name": "stdout",
          "text": [
            "8\n"
          ]
        }
      ]
    },
    {
      "cell_type": "code",
      "source": [
        "x = 5\n",
        "y = 3\n",
        "sum = x+y\n",
        "print (sum)"
      ],
      "metadata": {
        "colab": {
          "base_uri": "https://localhost:8080/"
        },
        "id": "5nJiN-vKRYuR",
        "outputId": "2e3e278f-2abf-4340-e718-1971271d9dd0"
      },
      "execution_count": 79,
      "outputs": [
        {
          "output_type": "stream",
          "name": "stdout",
          "text": [
            "8\n"
          ]
        }
      ]
    },
    {
      "cell_type": "markdown",
      "source": [
        "Assignment Operators"
      ],
      "metadata": {
        "id": "Vt6SbTB-RjIC"
      }
    },
    {
      "cell_type": "code",
      "source": [
        "a, b, c = 0, -1, 6\n",
        "c%=3\n",
        "print (c)"
      ],
      "metadata": {
        "colab": {
          "base_uri": "https://localhost:8080/"
        },
        "id": "EN5ZNVKwRnDS",
        "outputId": "886c8a70-9198-499d-e35a-9d6a4632e9b1"
      },
      "execution_count": 84,
      "outputs": [
        {
          "output_type": "stream",
          "name": "stdout",
          "text": [
            "0\n"
          ]
        }
      ]
    },
    {
      "cell_type": "markdown",
      "source": [
        "Comparison Operators"
      ],
      "metadata": {
        "id": "0nviqd4TSDeZ"
      }
    },
    {
      "cell_type": "code",
      "source": [
        "a, b, c, = 0, -1, 6\n",
        "a>b and c>b\n"
      ],
      "metadata": {
        "colab": {
          "base_uri": "https://localhost:8080/"
        },
        "id": "5Kv7LXssSD9I",
        "outputId": "e199e005-0a6e-476d-d425-1893d3ba1d93"
      },
      "execution_count": 88,
      "outputs": [
        {
          "output_type": "execute_result",
          "data": {
            "text/plain": [
              "True"
            ]
          },
          "metadata": {},
          "execution_count": 88
        }
      ]
    },
    {
      "cell_type": "code",
      "source": [
        "a = 23\n",
        "b = 6\n",
        "a<b"
      ],
      "metadata": {
        "colab": {
          "base_uri": "https://localhost:8080/"
        },
        "id": "gaQzZoq1TEHL",
        "outputId": "f529e05c-1b47-497a-a518-6571a4322fcf"
      },
      "execution_count": 94,
      "outputs": [
        {
          "output_type": "execute_result",
          "data": {
            "text/plain": [
              "False"
            ]
          },
          "metadata": {},
          "execution_count": 94
        }
      ]
    },
    {
      "cell_type": "markdown",
      "source": [
        "Identity Operators"
      ],
      "metadata": {
        "id": "655tLvOvScth"
      }
    },
    {
      "cell_type": "code",
      "source": [
        "a, b, c = 0, -1, 5\n",
        "a is c"
      ],
      "metadata": {
        "colab": {
          "base_uri": "https://localhost:8080/"
        },
        "id": "Vm14lngPSdLK",
        "outputId": "ad53590e-7a0b-44c7-fd6d-0a2ca36ca7d9"
      },
      "execution_count": 86,
      "outputs": [
        {
          "output_type": "execute_result",
          "data": {
            "text/plain": [
              "False"
            ]
          },
          "metadata": {},
          "execution_count": 86
        }
      ]
    },
    {
      "cell_type": "markdown",
      "source": [
        "Bitwise Operators"
      ],
      "metadata": {
        "id": "_QHYjyaZSl3U"
      }
    },
    {
      "cell_type": "code",
      "source": [
        "#Decimal to Binary\n",
        "#10 = 1010\n",
        "\n",
        "x = 10\n",
        "x>>1\n"
      ],
      "metadata": {
        "colab": {
          "base_uri": "https://localhost:8080/"
        },
        "id": "iRsFCxRUT8gj",
        "outputId": "6e4b9f03-f03d-4cfc-9260-becbc1d47cb5"
      },
      "execution_count": 125,
      "outputs": [
        {
          "output_type": "execute_result",
          "data": {
            "text/plain": [
              "5"
            ]
          },
          "metadata": {},
          "execution_count": 125
        }
      ]
    },
    {
      "cell_type": "code",
      "source": [
        "#Decimal to Binary\n",
        "#10 = 1010\n",
        "\n",
        "x = 10\n",
        "x>>1\n",
        "print (x>>1)\n"
      ],
      "metadata": {
        "colab": {
          "base_uri": "https://localhost:8080/"
        },
        "id": "yRawYQX4XQdK",
        "outputId": "1de7c219-2b9a-4e77-de2a-6e956a7f2595"
      },
      "execution_count": 136,
      "outputs": [
        {
          "output_type": "stream",
          "name": "stdout",
          "text": [
            "5\n"
          ]
        }
      ]
    },
    {
      "cell_type": "code",
      "source": [
        "#Decimal to Binary\n",
        "#10 = 1010\n",
        "\n",
        "x = 10\n",
        "x>>2"
      ],
      "metadata": {
        "colab": {
          "base_uri": "https://localhost:8080/"
        },
        "id": "2uSYF62lV4m-",
        "outputId": "5b2081f0-d0b3-4dd6-90bc-ff4baa079753"
      },
      "execution_count": 133,
      "outputs": [
        {
          "output_type": "execute_result",
          "data": {
            "text/plain": [
              "2"
            ]
          },
          "metadata": {},
          "execution_count": 133
        }
      ]
    },
    {
      "cell_type": "code",
      "source": [
        "#Decimal to Binary\n",
        "#10 = 1010\n",
        "\n",
        "x = 10\n",
        "x>>2\n",
        "print (x>>2)"
      ],
      "metadata": {
        "colab": {
          "base_uri": "https://localhost:8080/"
        },
        "id": "2zmP1_hNV-Mx",
        "outputId": "0944ad49-8866-4172-8dfd-3fc816d8f3f2"
      },
      "execution_count": 139,
      "outputs": [
        {
          "output_type": "stream",
          "name": "stdout",
          "text": [
            "2\n"
          ]
        }
      ]
    },
    {
      "cell_type": "markdown",
      "source": [
        "Application 1"
      ],
      "metadata": {
        "id": "3hFTRr-vYKkC"
      }
    },
    {
      "cell_type": "code",
      "source": [
        "#application 1\n",
        "#Area of the Circle\n",
        "r = 4\n",
        "pi = 3.14159\n",
        "Area = pi*r*r\n",
        "print (\"A = \", Area, \"cm²\")"
      ],
      "metadata": {
        "colab": {
          "base_uri": "https://localhost:8080/"
        },
        "id": "dOm0RErzYXvq",
        "outputId": "6504a7d4-83e5-43bb-cff9-315e343d7c47"
      },
      "execution_count": 158,
      "outputs": [
        {
          "output_type": "stream",
          "name": "stdout",
          "text": [
            "A =  50.26544 cm²\n"
          ]
        }
      ]
    },
    {
      "cell_type": "code",
      "source": [
        "#Volume of the Circle\n",
        "r = 6\n",
        "pi = 3.14159\n",
        "Volume = (4/3)*pi*r*r*r\n",
        "print (\"V = \", Volume, \"cm³\")\n"
      ],
      "metadata": {
        "colab": {
          "base_uri": "https://localhost:8080/"
        },
        "id": "_C30ssdXbOb7",
        "outputId": "af2f5489-4302-402a-c023-5bf7de56b6fe"
      },
      "execution_count": 165,
      "outputs": [
        {
          "output_type": "stream",
          "name": "stdout",
          "text": [
            "V =  904.7779199999999 cm³\n"
          ]
        }
      ]
    },
    {
      "cell_type": "code",
      "source": [
        "#Area of Rectangle\n",
        "l = 23\n",
        "w = 5\n",
        "area = l * w\n",
        "print (\"A =\", l*w, \"cm²\")"
      ],
      "metadata": {
        "colab": {
          "base_uri": "https://localhost:8080/"
        },
        "id": "onucJ3FUZ8gz",
        "outputId": "84391a24-ed34-4c96-f9fe-ab3e2ffe700c"
      },
      "execution_count": 160,
      "outputs": [
        {
          "output_type": "stream",
          "name": "stdout",
          "text": [
            "A = 115 cm²\n"
          ]
        }
      ]
    },
    {
      "cell_type": "code",
      "source": [
        "#Volume of Rectangle\n",
        "l = 6\n",
        "w = 10\n",
        "h = 9\n",
        "volume = l * w * h\n",
        "print (\"V =\", l*w*h, \"cm³\")"
      ],
      "metadata": {
        "colab": {
          "base_uri": "https://localhost:8080/"
        },
        "id": "POr-APTlbVuT",
        "outputId": "308c66ec-8a2f-44f5-8147-dee834b7fc21"
      },
      "execution_count": 166,
      "outputs": [
        {
          "output_type": "stream",
          "name": "stdout",
          "text": [
            "V = 540 cm³\n"
          ]
        }
      ]
    },
    {
      "cell_type": "code",
      "source": [
        "#Area of Square\n",
        "s = 11\n",
        "area = s * s\n",
        "print (\"A =\", s*s, \"cm²\")"
      ],
      "metadata": {
        "colab": {
          "base_uri": "https://localhost:8080/"
        },
        "id": "YC450fw7a0Hb",
        "outputId": "3badacf6-a56a-40e2-9481-8da15d52528f"
      },
      "execution_count": 162,
      "outputs": [
        {
          "output_type": "stream",
          "name": "stdout",
          "text": [
            "A = 121 cm²\n"
          ]
        }
      ]
    },
    {
      "cell_type": "code",
      "source": [
        "#Volume of Square\n",
        "s = 9\n",
        "volume = s * s * s\n",
        "print (\"V =\", s*s*s, \"cm³\")"
      ],
      "metadata": {
        "colab": {
          "base_uri": "https://localhost:8080/"
        },
        "id": "kAtZ7ZPUbmMj",
        "outputId": "54dfb61e-c7b6-4f8e-9b2e-137096433271"
      },
      "execution_count": 167,
      "outputs": [
        {
          "output_type": "stream",
          "name": "stdout",
          "text": [
            "V = 729 cm³\n"
          ]
        }
      ]
    },
    {
      "cell_type": "code",
      "source": [
        "#Area of Triangle\n",
        "b = 12\n",
        "h = 14\n",
        "area = (b*h)/2\n",
        "print (\"A =\", (b*h)/2, \"cm²\")"
      ],
      "metadata": {
        "colab": {
          "base_uri": "https://localhost:8080/"
        },
        "id": "XTbgK35vbGTU",
        "outputId": "366bfa25-e9f0-4d50-8166-67cc8838e139"
      },
      "execution_count": 163,
      "outputs": [
        {
          "output_type": "stream",
          "name": "stdout",
          "text": [
            "A = 84.0 cm²\n"
          ]
        }
      ]
    },
    {
      "cell_type": "code",
      "source": [
        "#Volume of Triangle\n",
        "b = 9\n",
        "h = 11\n",
        "volume = (b*h)/2\n",
        "print (\"V =\", (b*h)/2, \"cm³\")"
      ],
      "metadata": {
        "colab": {
          "base_uri": "https://localhost:8080/"
        },
        "id": "OFuoASChcFrf",
        "outputId": "5b1e2c1e-3578-44fc-96ed-ae4e8877f34f"
      },
      "execution_count": 168,
      "outputs": [
        {
          "output_type": "stream",
          "name": "stdout",
          "text": [
            "V = 49.5 cm³\n"
          ]
        }
      ]
    }
  ]
}